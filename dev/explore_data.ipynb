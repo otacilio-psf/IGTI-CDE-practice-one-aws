{
 "cells": [
  {
   "cell_type": "code",
   "execution_count": 1,
   "id": "53d59e3d-c9f6-4d9e-9770-56b91128211d",
   "metadata": {},
   "outputs": [],
   "source": [
    "from pyspark.sql import SparkSession\n",
    "from pyspark.sql.functions import col"
   ]
  },
  {
   "cell_type": "code",
   "execution_count": 2,
   "id": "c0e3c235-fd01-4642-adaa-e8ff6c868411",
   "metadata": {},
   "outputs": [
    {
     "name": "stderr",
     "output_type": "stream",
     "text": [
      "WARNING: An illegal reflective access operation has occurred\n",
      "WARNING: Illegal reflective access by org.apache.spark.unsafe.Platform (file:/opt/spark/jars/spark-unsafe_2.12-3.1.1.jar) to constructor java.nio.DirectByteBuffer(long,int)\n",
      "WARNING: Please consider reporting this to the maintainers of org.apache.spark.unsafe.Platform\n",
      "WARNING: Use --illegal-access=warn to enable warnings of further illegal reflective access operations\n",
      "WARNING: All illegal access operations will be denied in a future release\n",
      "21/10/06 17:57:21 WARN NativeCodeLoader: Unable to load native-hadoop library for your platform... using builtin-java classes where applicable\n",
      "Using Spark's default log4j profile: org/apache/spark/log4j-defaults.properties\n",
      "Setting default log level to \"WARN\".\n",
      "To adjust logging level use sc.setLogLevel(newLevel). For SparkR, use setLogLevel(newLevel).\n"
     ]
    }
   ],
   "source": [
    "spark = SparkSession.builder.appName(\"IGTI-pratice-one\").getOrCreate()"
   ]
  },
  {
   "cell_type": "code",
   "execution_count": 3,
   "id": "4b683193-6088-46ee-af5f-491c68bead71",
   "metadata": {},
   "outputs": [
    {
     "name": "stderr",
     "output_type": "stream",
     "text": [
      "                                                                                \r"
     ]
    }
   ],
   "source": [
    "df = (spark.read.format(\"csv\")\n",
    "      .option(\"header\", \"true\")\n",
    "      .option(\"inferSchema\", \"true\")\n",
    "      .option(\"sep\", \";\")\n",
    "      .option('encoding', 'ISO-8859-1')\n",
    "      .load(\"sample_data.csv\")\n",
    ")"
   ]
  },
  {
   "cell_type": "code",
   "execution_count": 4,
   "id": "db10a31f-61c7-4c48-a60a-e937eb98fbf5",
   "metadata": {},
   "outputs": [
    {
     "name": "stdout",
     "output_type": "stream",
     "text": [
      "root\n",
      " |-- NU_INSCRICAO: long (nullable = true)\n",
      " |-- NU_ANO: integer (nullable = true)\n",
      " |-- CO_MUNICIPIO_RESIDENCIA: integer (nullable = true)\n",
      " |-- NO_MUNICIPIO_RESIDENCIA: string (nullable = true)\n",
      " |-- CO_UF_RESIDENCIA: integer (nullable = true)\n",
      " |-- SG_UF_RESIDENCIA: string (nullable = true)\n",
      " |-- NU_IDADE: integer (nullable = true)\n",
      " |-- TP_SEXO: string (nullable = true)\n",
      " |-- TP_ESTADO_CIVIL: integer (nullable = true)\n",
      " |-- TP_COR_RACA: integer (nullable = true)\n",
      " |-- TP_NACIONALIDADE: integer (nullable = true)\n",
      " |-- CO_MUNICIPIO_NASCIMENTO: integer (nullable = true)\n",
      " |-- NO_MUNICIPIO_NASCIMENTO: string (nullable = true)\n",
      " |-- CO_UF_NASCIMENTO: integer (nullable = true)\n",
      " |-- SG_UF_NASCIMENTO: string (nullable = true)\n",
      " |-- TP_ST_CONCLUSAO: integer (nullable = true)\n",
      " |-- TP_ANO_CONCLUIU: integer (nullable = true)\n",
      " |-- TP_ESCOLA: integer (nullable = true)\n",
      " |-- TP_ENSINO: integer (nullable = true)\n",
      " |-- IN_TREINEIRO: integer (nullable = true)\n",
      " |-- CO_ESCOLA: integer (nullable = true)\n",
      " |-- CO_MUNICIPIO_ESC: integer (nullable = true)\n",
      " |-- NO_MUNICIPIO_ESC: string (nullable = true)\n",
      " |-- CO_UF_ESC: integer (nullable = true)\n",
      " |-- SG_UF_ESC: string (nullable = true)\n",
      " |-- TP_DEPENDENCIA_ADM_ESC: integer (nullable = true)\n",
      " |-- TP_LOCALIZACAO_ESC: integer (nullable = true)\n",
      " |-- TP_SIT_FUNC_ESC: integer (nullable = true)\n",
      " |-- IN_BAIXA_VISAO: integer (nullable = true)\n",
      " |-- IN_CEGUEIRA: integer (nullable = true)\n",
      " |-- IN_SURDEZ: integer (nullable = true)\n",
      " |-- IN_DEFICIENCIA_AUDITIVA: integer (nullable = true)\n",
      " |-- IN_SURDO_CEGUEIRA: integer (nullable = true)\n",
      " |-- IN_DEFICIENCIA_FISICA: integer (nullable = true)\n",
      " |-- IN_DEFICIENCIA_MENTAL: integer (nullable = true)\n",
      " |-- IN_DEFICIT_ATENCAO: integer (nullable = true)\n",
      " |-- IN_DISLEXIA: integer (nullable = true)\n",
      " |-- IN_DISCALCULIA: integer (nullable = true)\n",
      " |-- IN_AUTISMO: integer (nullable = true)\n",
      " |-- IN_VISAO_MONOCULAR: integer (nullable = true)\n",
      " |-- IN_OUTRA_DEF: integer (nullable = true)\n",
      " |-- IN_GESTANTE: integer (nullable = true)\n",
      " |-- IN_LACTANTE: integer (nullable = true)\n",
      " |-- IN_IDOSO: integer (nullable = true)\n",
      " |-- IN_ESTUDA_CLASSE_HOSPITALAR: integer (nullable = true)\n",
      " |-- IN_SEM_RECURSO: integer (nullable = true)\n",
      " |-- IN_BRAILLE: integer (nullable = true)\n",
      " |-- IN_AMPLIADA_24: integer (nullable = true)\n",
      " |-- IN_AMPLIADA_18: integer (nullable = true)\n",
      " |-- IN_LEDOR: integer (nullable = true)\n",
      " |-- IN_ACESSO: integer (nullable = true)\n",
      " |-- IN_TRANSCRICAO: integer (nullable = true)\n",
      " |-- IN_LIBRAS: integer (nullable = true)\n",
      " |-- IN_TEMPO_ADICIONAL: integer (nullable = true)\n",
      " |-- IN_LEITURA_LABIAL: integer (nullable = true)\n",
      " |-- IN_MESA_CADEIRA_RODAS: integer (nullable = true)\n",
      " |-- IN_MESA_CADEIRA_SEPARADA: integer (nullable = true)\n",
      " |-- IN_APOIO_PERNA: integer (nullable = true)\n",
      " |-- IN_GUIA_INTERPRETE: integer (nullable = true)\n",
      " |-- IN_COMPUTADOR: integer (nullable = true)\n",
      " |-- IN_CADEIRA_ESPECIAL: integer (nullable = true)\n",
      " |-- IN_CADEIRA_CANHOTO: integer (nullable = true)\n",
      " |-- IN_CADEIRA_ACOLCHOADA: integer (nullable = true)\n",
      " |-- IN_PROVA_DEITADO: integer (nullable = true)\n",
      " |-- IN_MOBILIARIO_OBESO: integer (nullable = true)\n",
      " |-- IN_LAMINA_OVERLAY: integer (nullable = true)\n",
      " |-- IN_PROTETOR_AURICULAR: integer (nullable = true)\n",
      " |-- IN_MEDIDOR_GLICOSE: integer (nullable = true)\n",
      " |-- IN_MAQUINA_BRAILE: integer (nullable = true)\n",
      " |-- IN_SOROBAN: integer (nullable = true)\n",
      " |-- IN_MARCA_PASSO: integer (nullable = true)\n",
      " |-- IN_SONDA: integer (nullable = true)\n",
      " |-- IN_MEDICAMENTOS: integer (nullable = true)\n",
      " |-- IN_SALA_INDIVIDUAL: integer (nullable = true)\n",
      " |-- IN_SALA_ESPECIAL: integer (nullable = true)\n",
      " |-- IN_SALA_ACOMPANHANTE: integer (nullable = true)\n",
      " |-- IN_MOBILIARIO_ESPECIFICO: integer (nullable = true)\n",
      " |-- IN_MATERIAL_ESPECIFICO: integer (nullable = true)\n",
      " |-- IN_NOME_SOCIAL: integer (nullable = true)\n",
      " |-- CO_MUNICIPIO_PROVA: integer (nullable = true)\n",
      " |-- NO_MUNICIPIO_PROVA: string (nullable = true)\n",
      " |-- CO_UF_PROVA: integer (nullable = true)\n",
      " |-- SG_UF_PROVA: string (nullable = true)\n",
      " |-- TP_PRESENCA_CN: integer (nullable = true)\n",
      " |-- TP_PRESENCA_CH: integer (nullable = true)\n",
      " |-- TP_PRESENCA_LC: integer (nullable = true)\n",
      " |-- TP_PRESENCA_MT: integer (nullable = true)\n",
      " |-- CO_PROVA_CN: integer (nullable = true)\n",
      " |-- CO_PROVA_CH: integer (nullable = true)\n",
      " |-- CO_PROVA_LC: integer (nullable = true)\n",
      " |-- CO_PROVA_MT: integer (nullable = true)\n",
      " |-- NU_NOTA_CN: double (nullable = true)\n",
      " |-- NU_NOTA_CH: double (nullable = true)\n",
      " |-- NU_NOTA_LC: double (nullable = true)\n",
      " |-- NU_NOTA_MT: double (nullable = true)\n",
      " |-- TX_RESPOSTAS_CN: string (nullable = true)\n",
      " |-- TX_RESPOSTAS_CH: string (nullable = true)\n",
      " |-- TX_RESPOSTAS_LC: string (nullable = true)\n",
      " |-- TX_RESPOSTAS_MT: string (nullable = true)\n",
      " |-- TP_LINGUA: integer (nullable = true)\n",
      " |-- TX_GABARITO_CN: string (nullable = true)\n",
      " |-- TX_GABARITO_CH: string (nullable = true)\n",
      " |-- TX_GABARITO_LC: string (nullable = true)\n",
      " |-- TX_GABARITO_MT: string (nullable = true)\n",
      " |-- TP_STATUS_REDACAO: integer (nullable = true)\n",
      " |-- NU_NOTA_COMP1: integer (nullable = true)\n",
      " |-- NU_NOTA_COMP2: integer (nullable = true)\n",
      " |-- NU_NOTA_COMP3: integer (nullable = true)\n",
      " |-- NU_NOTA_COMP4: integer (nullable = true)\n",
      " |-- NU_NOTA_COMP5: integer (nullable = true)\n",
      " |-- NU_NOTA_REDACAO: integer (nullable = true)\n",
      " |-- Q001: string (nullable = true)\n",
      " |-- Q002: string (nullable = true)\n",
      " |-- Q003: string (nullable = true)\n",
      " |-- Q004: string (nullable = true)\n",
      " |-- Q005: integer (nullable = true)\n",
      " |-- Q006: string (nullable = true)\n",
      " |-- Q007: string (nullable = true)\n",
      " |-- Q008: string (nullable = true)\n",
      " |-- Q009: string (nullable = true)\n",
      " |-- Q010: string (nullable = true)\n",
      " |-- Q011: string (nullable = true)\n",
      " |-- Q012: string (nullable = true)\n",
      " |-- Q013: string (nullable = true)\n",
      " |-- Q014: string (nullable = true)\n",
      " |-- Q015: string (nullable = true)\n",
      " |-- Q016: string (nullable = true)\n",
      " |-- Q017: string (nullable = true)\n",
      " |-- Q018: string (nullable = true)\n",
      " |-- Q019: string (nullable = true)\n",
      " |-- Q020: string (nullable = true)\n",
      " |-- Q021: string (nullable = true)\n",
      " |-- Q022: string (nullable = true)\n",
      " |-- Q023: string (nullable = true)\n",
      " |-- Q024: string (nullable = true)\n",
      " |-- Q025: string (nullable = true)\n",
      "\n"
     ]
    }
   ],
   "source": [
    "df.printSchema()"
   ]
  },
  {
   "cell_type": "code",
   "execution_count": 5,
   "id": "a344de90-f986-460e-a5f7-3e9779a9d839",
   "metadata": {},
   "outputs": [
    {
     "name": "stdout",
     "output_type": "stream",
     "text": [
      "+-----------------------+\n",
      "|NO_MUNICIPIO_RESIDENCIA|\n",
      "+-----------------------+\n",
      "|Sorocaba               |\n",
      "|Feira de Santana       |\n",
      "|Fortaleza              |\n",
      "|Palmas                 |\n",
      "|Contagem               |\n",
      "|Rondonópolis           |\n",
      "|Paulo Afonso           |\n",
      "|São Paulo              |\n",
      "|São Paulo              |\n",
      "|São Paulo              |\n",
      "|Mogi das Cruzes        |\n",
      "|Santa Maria            |\n",
      "|Araucária              |\n",
      "|Fortaleza              |\n",
      "|Uberlândia             |\n",
      "|Recife                 |\n",
      "|Guanambi               |\n",
      "|Recife                 |\n",
      "|Itapecuru Mirim        |\n",
      "|Salvador               |\n",
      "+-----------------------+\n",
      "only showing top 20 rows\n",
      "\n"
     ]
    }
   ],
   "source": [
    "df.select(col(\"NO_MUNICIPIO_RESIDENCIA\")).show(truncate=False)"
   ]
  },
  {
   "cell_type": "code",
   "execution_count": 4,
   "id": "3e0f956d-5052-4a98-b8df-68c23cd715db",
   "metadata": {},
   "outputs": [],
   "source": [
    "spark.stop()"
   ]
  }
 ],
 "metadata": {
  "kernelspec": {
   "display_name": "Python 3 (ipykernel)",
   "language": "python",
   "name": "python3"
  },
  "language_info": {
   "codemirror_mode": {
    "name": "ipython",
    "version": 3
   },
   "file_extension": ".py",
   "mimetype": "text/x-python",
   "name": "python",
   "nbconvert_exporter": "python",
   "pygments_lexer": "ipython3",
   "version": "3.7.3"
  }
 },
 "nbformat": 4,
 "nbformat_minor": 5
}
